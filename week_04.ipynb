{
  "nbformat": 4,
  "nbformat_minor": 0,
  "metadata": {
    "colab": {
      "provenance": [],
      "authorship_tag": "ABX9TyNdH9Vp2ke/Dt6HfULxyELS",
      "include_colab_link": true
    },
    "kernelspec": {
      "name": "python3",
      "display_name": "Python 3"
    },
    "language_info": {
      "name": "python"
    }
  },
  "cells": [
    {
      "cell_type": "markdown",
      "metadata": {
        "id": "view-in-github",
        "colab_type": "text"
      },
      "source": [
        "<a href=\"https://colab.research.google.com/github/nadhifazlfa/week-04/blob/main/week_04.ipynb\" target=\"_parent\"><img src=\"https://colab.research.google.com/assets/colab-badge.svg\" alt=\"Open In Colab\"/></a>"
      ]
    },
    {
      "cell_type": "code",
      "execution_count": null,
      "metadata": {
        "colab": {
          "base_uri": "https://localhost:8080/"
        },
        "id": "2Qymop5-h3XK",
        "outputId": "dfeb181d-4f9b-4482-8355-294aadfc8e49"
      },
      "outputs": [
        {
          "output_type": "execute_result",
          "data": {
            "text/plain": [
              "False"
            ]
          },
          "metadata": {},
          "execution_count": 3
        }
      ],
      "source": [
        "# Condition Equal\n",
        "\n",
        "a = 5\n",
        "a == 6"
      ]
    },
    {
      "cell_type": "code",
      "source": [
        "# Greater than Sign\n",
        "\n",
        "i = 6\n",
        "i > 5"
      ],
      "metadata": {
        "colab": {
          "base_uri": "https://localhost:8080/"
        },
        "id": "b_fSJsR1iqly",
        "outputId": "0eb2dd50-9fdb-44b3-8d67-c776651b8d47"
      },
      "execution_count": null,
      "outputs": [
        {
          "output_type": "execute_result",
          "data": {
            "text/plain": [
              "True"
            ]
          },
          "metadata": {},
          "execution_count": 4
        }
      ]
    },
    {
      "cell_type": "code",
      "source": [
        "# Greater than Sign\n",
        "\n",
        "i = 2\n",
        "i > 5"
      ],
      "metadata": {
        "colab": {
          "base_uri": "https://localhost:8080/"
        },
        "id": "7_ypdP4Li1Pb",
        "outputId": "feb561c8-7fa3-4fe9-c5b7-bfc36647b838"
      },
      "execution_count": null,
      "outputs": [
        {
          "output_type": "execute_result",
          "data": {
            "text/plain": [
              "False"
            ]
          },
          "metadata": {},
          "execution_count": 5
        }
      ]
    },
    {
      "cell_type": "code",
      "source": [
        "# Inequality Sign\n",
        "\n",
        "i = 2\n",
        "i != 6"
      ],
      "metadata": {
        "colab": {
          "base_uri": "https://localhost:8080/"
        },
        "id": "1LoVgvVnjC91",
        "outputId": "95e07671-0b21-40d4-8ce2-84651fce26a2"
      },
      "execution_count": null,
      "outputs": [
        {
          "output_type": "execute_result",
          "data": {
            "text/plain": [
              "True"
            ]
          },
          "metadata": {},
          "execution_count": 6
        }
      ]
    },
    {
      "cell_type": "code",
      "source": [
        "# Inequality Sign\n",
        "\n",
        "i = 6\n",
        "i != 6"
      ],
      "metadata": {
        "colab": {
          "base_uri": "https://localhost:8080/"
        },
        "id": "T2VIvW3SjSRv",
        "outputId": "e9617633-b42a-45c5-ac7b-b35b47c8fedf"
      },
      "execution_count": null,
      "outputs": [
        {
          "output_type": "execute_result",
          "data": {
            "text/plain": [
              "False"
            ]
          },
          "metadata": {},
          "execution_count": 7
        }
      ]
    },
    {
      "cell_type": "code",
      "source": [
        "# Use Equality sign to compare the strings\n",
        "\n",
        "\"ACDC\" == \"Michael Jackson\""
      ],
      "metadata": {
        "colab": {
          "base_uri": "https://localhost:8080/"
        },
        "id": "4XuwuTJPjby8",
        "outputId": "30b3aefe-424b-4260-9955-ce1d5d2dfac3"
      },
      "execution_count": null,
      "outputs": [
        {
          "output_type": "execute_result",
          "data": {
            "text/plain": [
              "False"
            ]
          },
          "metadata": {},
          "execution_count": 8
        }
      ]
    },
    {
      "cell_type": "code",
      "source": [
        "# Use Inequality sign to compare the strings\n",
        "\n",
        "\"ACDC\" != \"Michael Jackson\""
      ],
      "metadata": {
        "colab": {
          "base_uri": "https://localhost:8080/"
        },
        "id": "i8zXEh0ejvbX",
        "outputId": "f33703f7-93f5-402b-b6d0-3878d8356787"
      },
      "execution_count": null,
      "outputs": [
        {
          "output_type": "execute_result",
          "data": {
            "text/plain": [
              "True"
            ]
          },
          "metadata": {},
          "execution_count": 9
        }
      ]
    },
    {
      "cell_type": "code",
      "source": [
        "# Compare characthers\n",
        "\n",
        "'B'>'A'"
      ],
      "metadata": {
        "colab": {
          "base_uri": "https://localhost:8080/"
        },
        "id": "ElrWocm5j9E6",
        "outputId": "f6adb6b0-b1c9-4e82-8588-69d4d161dfa6"
      },
      "execution_count": null,
      "outputs": [
        {
          "output_type": "execute_result",
          "data": {
            "text/plain": [
              "True"
            ]
          },
          "metadata": {},
          "execution_count": 10
        }
      ]
    },
    {
      "cell_type": "code",
      "source": [
        "# Compare characthers\n",
        "\n",
        "'BA' > 'AB'\n"
      ],
      "metadata": {
        "colab": {
          "base_uri": "https://localhost:8080/"
        },
        "id": "XYDCjQ54kE9S",
        "outputId": "4ac807e9-6ce3-427d-b02d-ab60b945f33a"
      },
      "execution_count": null,
      "outputs": [
        {
          "output_type": "execute_result",
          "data": {
            "text/plain": [
              "True"
            ]
          },
          "metadata": {},
          "execution_count": 11
        }
      ]
    },
    {
      "cell_type": "code",
      "source": [
        "\"ba\">= 'ba'"
      ],
      "metadata": {
        "colab": {
          "base_uri": "https://localhost:8080/"
        },
        "id": "wZ_IHwnekVMk",
        "outputId": "1524b25a-f970-498b-d212-b3c2f912dec6"
      },
      "execution_count": null,
      "outputs": [
        {
          "output_type": "execute_result",
          "data": {
            "text/plain": [
              "True"
            ]
          },
          "metadata": {},
          "execution_count": 12
        }
      ]
    },
    {
      "cell_type": "code",
      "source": [
        "# If statement example\n",
        "\n",
        "#age = 19\n",
        "age = 18\n",
        "\n",
        "#expression that can be true or false\n",
        "if age > 18:\n",
        "\n",
        "     #within an indent,we have the expression that is run if the condition is true\n",
        "     print(\"you can enter\")\n",
        "#The statements after the if statement will run regardlees if the condition is true or false\n",
        "print(\"move on\")"
      ],
      "metadata": {
        "colab": {
          "base_uri": "https://localhost:8080/"
        },
        "id": "2w_NXqeykp9m",
        "outputId": "eda74ff2-c658-40a1-a7e5-1e3b02431b7d"
      },
      "execution_count": null,
      "outputs": [
        {
          "output_type": "stream",
          "name": "stdout",
          "text": [
            "move on\n"
          ]
        }
      ]
    },
    {
      "cell_type": "code",
      "source": [
        "# Else statement example\n",
        "\n",
        "#age = 17\n",
        "age = 19\n",
        "\n",
        "if age > 18:\n",
        "    print(\"you can enter\")\n",
        "else:\n",
        "    print(\"go see Meat Loaf\")\n",
        "    #print(\"move on\")\n",
        "\n",
        "print(\"move on\")"
      ],
      "metadata": {
        "colab": {
          "base_uri": "https://localhost:8080/"
        },
        "id": "DP-SzLx7lsZ6",
        "outputId": "bb5841d7-e60a-473f-a9bf-081f9b04dcb4"
      },
      "execution_count": null,
      "outputs": [
        {
          "output_type": "stream",
          "name": "stdout",
          "text": [
            "you can enter\n",
            "move on\n"
          ]
        }
      ]
    },
    {
      "cell_type": "code",
      "source": [
        "# Elif statement example\n",
        "\n",
        "age = 18\n",
        "\n",
        "if age > 18:\n",
        "   print(\"you can enter\")\n",
        "elif age == 18:\n",
        "   print(\"go see Pink Floyd\")\n",
        "else:\n",
        "   print(\"go see Meat Loaf\")\n",
        "\n",
        "print(\"move on\")"
      ],
      "metadata": {
        "colab": {
          "base_uri": "https://localhost:8080/"
        },
        "id": "IBDoGqeQmSwe",
        "outputId": "cc0e520b-e511-42f3-9fd4-6f782201da34"
      },
      "execution_count": null,
      "outputs": [
        {
          "output_type": "stream",
          "name": "stdout",
          "text": [
            "go see Pink Floyd\n",
            "move on\n"
          ]
        }
      ]
    },
    {
      "cell_type": "code",
      "source": [
        "# Condition statement example\n",
        "\n",
        "album_year = 1983\n",
        "#album_year = 1970\n",
        "\n",
        "if album_year > 1980:\n",
        "    print(\"Album year is greater than 1980\")\n",
        "\n",
        "print('do something..')"
      ],
      "metadata": {
        "colab": {
          "base_uri": "https://localhost:8080/"
        },
        "id": "hGl13FIjm-ob",
        "outputId": "e6d4d59c-f843-443d-d611-6464c7ef8b5e"
      },
      "execution_count": null,
      "outputs": [
        {
          "output_type": "stream",
          "name": "stdout",
          "text": [
            "Album year is greater than 1980\n",
            "do something..\n"
          ]
        }
      ]
    },
    {
      "cell_type": "code",
      "source": [
        "# Condition statement example\n",
        "\n",
        "#album_year = 1983\n",
        "album_year = 1970\n",
        "\n",
        "if album_year > 1980:\n",
        "    print(\"Album year is greater than 1980\")\n",
        "else:\n",
        "    print(\"less than 1980\")\n",
        "\n",
        "print('do something..')"
      ],
      "metadata": {
        "colab": {
          "base_uri": "https://localhost:8080/"
        },
        "id": "8YT3GEKdnvYo",
        "outputId": "85d578c8-d7b3-47f1-9f73-53c779f23f1e"
      },
      "execution_count": null,
      "outputs": [
        {
          "output_type": "stream",
          "name": "stdout",
          "text": [
            "less than 1980\n",
            "do something..\n"
          ]
        }
      ]
    },
    {
      "cell_type": "code",
      "source": [
        "# Condition statment example\n",
        "\n",
        "album_year = 1980\n",
        "\n",
        "if(album_year > 1979) and (album_year < 1990):\n",
        "    print(\"Album year was in between 1980 and 1989\")\n",
        "\n",
        "print(\"\")\n",
        "print(\"Do Stuff..\")\n"
      ],
      "metadata": {
        "colab": {
          "base_uri": "https://localhost:8080/"
        },
        "id": "sleNnF7DocgU",
        "outputId": "78abe04e-67b2-4f0f-b087-63e8dd7a660c"
      },
      "execution_count": null,
      "outputs": [
        {
          "output_type": "stream",
          "name": "stdout",
          "text": [
            "Album year was in between 1980 and 1989\n",
            "\n",
            "Do Stuff..\n"
          ]
        }
      ]
    },
    {
      "cell_type": "code",
      "source": [
        "# Condition statement example\n",
        "\n",
        "album_year = 1978\n",
        "\n",
        "if(album_year < 1980) or (album_year > 1989):\n",
        "    print (\"Album was not made in the 1980's\")\n",
        "else:\n",
        "    print(\"The Album was ,ade in thr 1980's \")"
      ],
      "metadata": {
        "colab": {
          "base_uri": "https://localhost:8080/"
        },
        "id": "KE1YBBV7qCbJ",
        "outputId": "a56ede95-6faa-4149-984c-6c720f9c22ea"
      },
      "execution_count": null,
      "outputs": [
        {
          "output_type": "stream",
          "name": "stdout",
          "text": [
            "Album was not made in the 1980's\n"
          ]
        }
      ]
    },
    {
      "cell_type": "code",
      "source": [
        "# Condition statement example\n",
        "\n",
        "album_year = 1984\n",
        "\n",
        "if not (album_year == '1984'):\n",
        "    print (\"Album year is not 1984\")"
      ],
      "metadata": {
        "colab": {
          "base_uri": "https://localhost:8080/"
        },
        "id": "QquPzac0rHHF",
        "outputId": "bbfad982-ef18-49c8-9e10-92a8d0caeae0"
      },
      "execution_count": null,
      "outputs": [
        {
          "output_type": "stream",
          "name": "stdout",
          "text": [
            "Album year is not 1984\n"
          ]
        }
      ]
    },
    {
      "cell_type": "code",
      "source": [
        "\n",
        "rating = 8.5\n",
        "if rating > 8:\n",
        "  print (\"This album is Amazing!\")"
      ],
      "metadata": {
        "colab": {
          "base_uri": "https://localhost:8080/"
        },
        "id": "OyGQ36ILuPtJ",
        "outputId": "9e42f651-d04d-4a2a-dcdc-937de51de16b"
      },
      "execution_count": null,
      "outputs": [
        {
          "output_type": "stream",
          "name": "stdout",
          "text": [
            "This album is Amazing!\n"
          ]
        }
      ]
    },
    {
      "cell_type": "code",
      "source": [
        "rating = 8.5\n",
        "if rating > 8:\n",
        "  print (\"this album is amazing\")\n",
        "else:\n",
        "  print (\"this album is ok\")"
      ],
      "metadata": {
        "colab": {
          "base_uri": "https://localhost:8080/"
        },
        "id": "amJaBPsKu1RQ",
        "outputId": "c9587402-ce50-40de-de0b-fce809ac2b7e"
      },
      "execution_count": null,
      "outputs": [
        {
          "output_type": "stream",
          "name": "stdout",
          "text": [
            "this album is amazing\n"
          ]
        }
      ]
    },
    {
      "cell_type": "code",
      "source": [
        "album_year = 1979\n",
        "\n",
        "if album_year < 1980 or album_year == 1991 or album_year == 1993:\n",
        "    print (\"this album came out already\")"
      ],
      "metadata": {
        "colab": {
          "base_uri": "https://localhost:8080/"
        },
        "id": "3rkuw7eqvQOW",
        "outputId": "77b272d6-53e6-4ccc-86d3-fafec232765f"
      },
      "execution_count": null,
      "outputs": [
        {
          "output_type": "stream",
          "name": "stdout",
          "text": [
            "this album came out already\n"
          ]
        }
      ]
    },
    {
      "cell_type": "code",
      "source": [
        "# Weekly exercise 1\n",
        "# Membuat kode berdasarkan flowchart\n",
        "\n",
        "#age = 17\n",
        "age = 15\n",
        "\n",
        "if age < 17:\n",
        "    print(\"Tidak boleh membuat sim\")\n",
        "else:\n",
        "    print(\"boleh membuat sim\")\n",
        "\n",
        "\n",
        "\n"
      ],
      "metadata": {
        "colab": {
          "base_uri": "https://localhost:8080/"
        },
        "id": "eHUaUbRyw4tX",
        "outputId": "6fd18a05-874c-4655-d7d4-beb2a8db3866"
      },
      "execution_count": null,
      "outputs": [
        {
          "output_type": "stream",
          "name": "stdout",
          "text": [
            "Tidak boleh membuat sim\n"
          ]
        }
      ]
    },
    {
      "cell_type": "code",
      "source": [
        "#age = 19\n",
        "age = 17\n",
        "\n",
        "if age > 17:\n",
        "    print(\"Boleh membuat sim\")\n",
        "else:\n",
        "    print(\"Boleh membuat sim\")"
      ],
      "metadata": {
        "colab": {
          "base_uri": "https://localhost:8080/"
        },
        "id": "TedHmm-l5p8A",
        "outputId": "2b2984ff-88f4-4974-b3bd-4666ab157cc8"
      },
      "execution_count": null,
      "outputs": [
        {
          "output_type": "stream",
          "name": "stdout",
          "text": [
            "Boleh membuat sim\n"
          ]
        }
      ]
    },
    {
      "cell_type": "code",
      "source": [
        "# Weekly Exercise 2\n",
        "# Membuat kode berdasarkan flowchart\n",
        "\n",
        "#nilai = 85\n",
        "nilai = 85\n",
        "\n",
        "if nilai >= 90:\n",
        "   print(\"Grade = A\")\n",
        "elif nilai >= 80:\n",
        "   print(\"Grade = B+\")\n",
        "elif nilai >= 70:\n",
        "   print(\"Grade = B\")\n",
        "elif nilai >= 60:\n",
        "  print(\"Grade = C+\")\n",
        "elif nilai >= 50:\n",
        "  print(\" Grade = C\")\n",
        "elif nilai >= 40:\n",
        "  print(\"Grade = D\")\n",
        "else:\n",
        "  print(\"Grade = E\")\n",
        "\n",
        "\n",
        "\n",
        "\n"
      ],
      "metadata": {
        "colab": {
          "base_uri": "https://localhost:8080/"
        },
        "id": "VPTNlhZC6dzm",
        "outputId": "3f5717f5-45b8-426a-d505-1f59d71ece42"
      },
      "execution_count": null,
      "outputs": [
        {
          "output_type": "stream",
          "name": "stdout",
          "text": [
            "Grade = B+\n"
          ]
        }
      ]
    },
    {
      "cell_type": "code",
      "source": [
        "# Weekly Exercise 3\n",
        "# Membuat kode berdasarkan flowchart\n",
        "\n",
        "# nilai = 90\n",
        "nilai = 45\n",
        "\n",
        "if nilai >= 80.00:\n",
        "  print(\"nilai A\")\n",
        "elif nilai >= 77.50:\n",
        "  print(\"nilai A-\")\n",
        "elif nilai >= 75.00:\n",
        "  print(\"nilai A/B\")\n",
        "elif nilai >= 72.50:\n",
        "  print(\"nilai B+\")\n",
        "elif nilai >= 70:\n",
        "   print(\"nilai B-\")\n",
        "elif nilai >= 67.50:\n",
        "   print(\"nilai B-\")\n",
        "elif nilai >= 65.00:\n",
        "   print(\" nilai B/C\")\n",
        "elif nilai >= 62.50:\n",
        "   print(\"nilai C+\")\n",
        "elif nilai >= 60:\n",
        "   print(\"nilai C\")\n",
        "elif nilai >= 55:\n",
        "   print(\"nilai C-\")\n",
        "elif nilai >= 50:\n",
        "   print(\" nilai C/D\")\n",
        "elif nilai >= 45:\n",
        "   print(\"nilai D+\")\n",
        "elif nilai >= 40:\n",
        "   print(\"nilai D\")\n",
        "else :\n",
        "   print(\"nilai E\")"
      ],
      "metadata": {
        "colab": {
          "base_uri": "https://localhost:8080/"
        },
        "id": "t0j9ihJ7rRow",
        "outputId": "925c506f-8ed6-44d5-cfce-42e7913a5f25"
      },
      "execution_count": 1,
      "outputs": [
        {
          "output_type": "stream",
          "name": "stdout",
          "text": [
            "nilai D+\n"
          ]
        }
      ]
    }
  ]
}